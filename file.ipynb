{
 "cells": [
  {
   "cell_type": "code",
   "execution_count": null,
   "id": "7bca38f7",
   "metadata": {},
   "outputs": [],
   "source": [
    "#используемые библиотеки в решении\n",
    "import pandas as pd\n",
    "import lightgbm\n",
    "\n",
    "#чтение данных\n",
    "X_train_in = pd.read_csv(\"X_train.csv\", index_col=0)\n",
    "y_train_in = pd.read_csv(\"y_train.csv\",index_col=0)\n",
    "X_val = pd.read_csv(\"X_test.csv\", index_col=0)\n",
    "\n",
    "X_all = X_train_in.append(X_val, ignore_index=True)\n",
    "\n",
    "from sklearn import preprocessing\n",
    "le = preprocessing.LabelEncoder()\n",
    "\n",
    "le.fit(X_all.ДИСЦИПЛИНА)\n",
    "\n",
    "X_train_in.loc[:,\"type\"] = le.transform(X_train_in.loc[:,\"ДИСЦИПЛИНА\"])\n",
    "X_val.loc[:,\"type\"] = le.transform(X_val.loc[:,\"ДИСЦИПЛИНА\"])\n",
    "\n",
    "X_train_in[\"mark\"]=y_train_in[\"mark\"]\n",
    "# вычисление средней оценки\n",
    "stud_mean_mark = X_train_in.groupby(\"STD_ID\").mean()[\"mark\"]\n",
    "X_train_in.loc[:,\"stud_mean\"] = X_train_in.loc[:,\"STD_ID\"].map(stud_mean_mark)\n",
    "\n",
    "X_val.loc[:,\"stud_mean\"] = X_val.loc[:,\"STD_ID\"].map(stud_mean_mark)\n",
    "\n",
    "from sklearn.model_selection import train_test_split\n",
    " #разделение на обучающую и тестовую выборку для проверки решения\n",
    "X_train, X_test, y_train, y_test =\n",
    "train_test_split(X_train_in,X_train_in[\"mark\"], shuffle=True, test_size=0.2)\n",
    "\n",
    "#выбор параметров на основе которых будет обучение\n",
    "train_col = [\"STD_ID\",\"КУРС\",\"СЕМЕСТР\",\"stud_mean\",\"type\"]\n",
    "\n",
    "\n",
    "X_train[\"STD_ID\"]= X_train[\"STD_ID\"].astype(int)\n",
    "X_test[\"STD_ID\"]= X_test[\"STD_ID\"].astype(int)\n",
    "\n",
    "#создание и обучение модели на основе бустинга рещающих деревьев\n",
    "lgb = lightgbm.LGBMRegressor(n_estimators=1000, verbose=1)\n",
    "\n",
    "lgb.fit(X_train[train_col],y_train)\n",
    "\n",
    "from sklearn.metrics import mean_absolute_error, r2_score\n",
    "#вычисление метрик получившейся модели\n",
    "print(mean_absolute_error(y_test, lgb.predict(X_test[train_col])))\n",
    "print(r2_score(y_test, lgb.predict(X_test[train_col])))\n",
    "\n",
    " #сохранение решения в нужном формате для отпавки\n",
    "y_pred = pd.read_csv(\"sample_submission.csv\",index_col=0)\n",
    "y_pred[\"mark\"] = lgb.predict(X_val[train_col])\n",
    "\n",
    "y_pred.to_csv(\"baseline_submission.csv\")"
   ]
  },
  {
   "cell_type": "code",
   "execution_count": null,
   "id": "b4d632dd",
   "metadata": {},
   "outputs": [],
   "source": []
  }
 ],
 "metadata": {
  "kernelspec": {
   "display_name": "Python 3",
   "language": "python",
   "name": "python3"
  },
  "language_info": {
   "codemirror_mode": {
    "name": "ipython",
    "version": 3
   },
   "file_extension": ".py",
   "mimetype": "text/x-python",
   "name": "python",
   "nbconvert_exporter": "python",
   "pygments_lexer": "ipython3",
   "version": "3.8.8"
  }
 },
 "nbformat": 4,
 "nbformat_minor": 5
}
